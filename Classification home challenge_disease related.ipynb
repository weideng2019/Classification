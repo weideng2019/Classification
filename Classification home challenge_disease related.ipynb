{
 "cells": [
  {
   "cell_type": "markdown",
   "metadata": {},
   "source": [
    "## Table of context\n",
    "\n",
    "1. [Load packages](#load-packages)\n",
    "2. [Load dataset](#load-dataset)\n",
    "3. [Overview of dataset](#overview-of-dataset)\n",
    "4. [Data visualization](#data-visualization)  \n",
    "    4.1 [Imbalanced target](#imbalanced-target)  \n",
    "    4.2 [Distributions of numerical variables](#distributions-of-numerical-variables)  \n",
    "    4.3 [Numerical variables VS target](#numerical-variables-VS-target)  \n",
    "    4.4 [Correlation-among-variables](#correlation-among-variables)  \n",
    "5. [Handling missing values](#handling-missing-values)  \n",
    "    5.1 [Drop MA_DEC and EA_RATIO,or not?](#drop-MA_DEC-and-EA_RATIO-,-or-not-?)  \n",
    "    5.2 [Imputation with median in CWS, MWS and EF](#imputation-with-median-in-CWS-,-MWS-and-EF)  \n",
    "    5.3 [Multiple imputation in LA, LVIDS and LVIDD](#Multiple-imputation-in-LA-,-LVIDS-and-LVIDD)  \n",
    "6. [Data modeling](#data-modeling)  \n",
    "    6.1 [RandomForest Classifier](#randomforest-classifier)  \n",
    "    6.2 [XGBoost Classifier](#xgboost-classifier)    \n",
    "7. [Conclusion](#conclusion)"
   ]
  },
  {
   "cell_type": "markdown",
   "metadata": {},
   "source": [
    "<a id='load-packages'></a>\n",
    "## Load packages"
   ]
  },
  {
   "cell_type": "code",
   "execution_count": 1,
   "metadata": {},
   "outputs": [],
   "source": [
    "import warnings\n",
    "warnings.filterwarnings('ignore')\n",
    "\n",
    "import pandas as pd\n",
    "import numpy as np\n",
    "\n",
    "from pandas import ExcelWriter\n",
    "from pandas import ExcelFile\n",
    "\n",
    "import matplotlib.pyplot as plt\n",
    "import seaborn as sns\n",
    "from matplotlib.legend_handler import HandlerLine2D\n",
    "\n",
    "from sklearn.experimental import enable_iterative_imputer\n",
    "from sklearn.impute import IterativeImputer ## multiple imputation\n",
    "%matplotlib inline\n",
    "\n",
    "from sklearn.feature_selection import RFECV ## feature selection\n",
    "\n",
    "from sklearn.impute import SimpleImputer\n",
    "from statistics import mean, median\n",
    "\n",
    "from sklearn.model_selection import train_test_split\n",
    "from sklearn.ensemble import RandomForestClassifier\n",
    "from xgboost import XGBClassifier\n",
    "\n",
    "from bayes_opt import BayesianOptimization\n",
    "from sklearn.model_selection import cross_val_score,StratifiedKFold\n",
    "\n",
    "from sklearn.metrics import (confusion_matrix, precision_recall_curve, auc,\n",
    "                             roc_curve, recall_score, classification_report, f1_score,\n",
    "                             precision_recall_fscore_support)"
   ]
  },
  {
   "cell_type": "markdown",
   "metadata": {},
   "source": [
    "<a id='load-dataset'></a>\n",
    "## Load dataset"
   ]
  },
  {
   "cell_type": "code",
   "execution_count": 76,
   "metadata": {},
   "outputs": [],
   "source": [
    "df=pd.read_excel('../Data/cerner.xlsx', sheet_name='data')"
   ]
  },
  {
   "cell_type": "markdown",
   "metadata": {},
   "source": [
    "<a id='overview-of-dataset'></a>\n",
    "## Overview of dataset"
   ]
  },
  {
   "cell_type": "code",
   "execution_count": 77,
   "metadata": {},
   "outputs": [
    {
     "name": "stdout",
     "output_type": "stream",
     "text": [
      "data shape: (778, 9)\n"
     ]
    },
    {
     "data": {
      "text/html": [
       "<div>\n",
       "<style scoped>\n",
       "    .dataframe tbody tr th:only-of-type {\n",
       "        vertical-align: middle;\n",
       "    }\n",
       "\n",
       "    .dataframe tbody tr th {\n",
       "        vertical-align: top;\n",
       "    }\n",
       "\n",
       "    .dataframe thead th {\n",
       "        text-align: right;\n",
       "    }\n",
       "</style>\n",
       "<table border=\"1\" class=\"dataframe\">\n",
       "  <thead>\n",
       "    <tr style=\"text-align: right;\">\n",
       "      <th></th>\n",
       "      <th>LVIDD</th>\n",
       "      <th>LVIDS</th>\n",
       "      <th>LA</th>\n",
       "      <th>EF</th>\n",
       "      <th>MA_DEC</th>\n",
       "      <th>EA_RATIO</th>\n",
       "      <th>MWS</th>\n",
       "      <th>CWS</th>\n",
       "      <th>Y</th>\n",
       "    </tr>\n",
       "  </thead>\n",
       "  <tbody>\n",
       "    <tr>\n",
       "      <th>0</th>\n",
       "      <td>5.7</td>\n",
       "      <td>?</td>\n",
       "      <td>3.7</td>\n",
       "      <td>58</td>\n",
       "      <td>?</td>\n",
       "      <td>?</td>\n",
       "      <td>249.3</td>\n",
       "      <td>456.47</td>\n",
       "      <td>Normal.</td>\n",
       "    </tr>\n",
       "    <tr>\n",
       "      <th>1</th>\n",
       "      <td>7.7</td>\n",
       "      <td>6.6</td>\n",
       "      <td>?</td>\n",
       "      <td>20</td>\n",
       "      <td>?</td>\n",
       "      <td>?</td>\n",
       "      <td>260.92</td>\n",
       "      <td>443.43</td>\n",
       "      <td>LVH.</td>\n",
       "    </tr>\n",
       "    <tr>\n",
       "      <th>2</th>\n",
       "      <td>6.2</td>\n",
       "      <td>4.3</td>\n",
       "      <td>4.6</td>\n",
       "      <td>59</td>\n",
       "      <td>?</td>\n",
       "      <td>?</td>\n",
       "      <td>255.63</td>\n",
       "      <td>478.96</td>\n",
       "      <td>LVH.</td>\n",
       "    </tr>\n",
       "    <tr>\n",
       "      <th>3</th>\n",
       "      <td>5.7</td>\n",
       "      <td>4.4</td>\n",
       "      <td>3.8</td>\n",
       "      <td>49</td>\n",
       "      <td>?</td>\n",
       "      <td>?</td>\n",
       "      <td>195.28</td>\n",
       "      <td>381.94</td>\n",
       "      <td>Normal.</td>\n",
       "    </tr>\n",
       "    <tr>\n",
       "      <th>4</th>\n",
       "      <td>9.1</td>\n",
       "      <td>?</td>\n",
       "      <td>4.6</td>\n",
       "      <td>17</td>\n",
       "      <td>?</td>\n",
       "      <td>?</td>\n",
       "      <td>259.55</td>\n",
       "      <td>395.67</td>\n",
       "      <td>LVH.</td>\n",
       "    </tr>\n",
       "  </tbody>\n",
       "</table>\n",
       "</div>"
      ],
      "text/plain": [
       "  LVIDD LVIDS   LA  EF MA_DEC EA_RATIO     MWS     CWS        Y\n",
       "0   5.7     ?  3.7  58      ?        ?   249.3  456.47  Normal.\n",
       "1   7.7   6.6    ?  20      ?        ?  260.92  443.43     LVH.\n",
       "2   6.2   4.3  4.6  59      ?        ?  255.63  478.96     LVH.\n",
       "3   5.7   4.4  3.8  49      ?        ?  195.28  381.94  Normal.\n",
       "4   9.1     ?  4.6  17      ?        ?  259.55  395.67     LVH."
      ]
     },
     "metadata": {},
     "output_type": "display_data"
    }
   ],
   "source": [
    "print('data shape:', df.shape)\n",
    "display(df.head())"
   ]
  },
  {
   "cell_type": "markdown",
   "metadata": {},
   "source": [
    "The misssing values are filled with '?', I would like to use np.nan to replace '?'."
   ]
  },
  {
   "cell_type": "code",
   "execution_count": 78,
   "metadata": {},
   "outputs": [],
   "source": [
    "df=df.replace('?', np.nan)"
   ]
  },
  {
   "cell_type": "code",
   "execution_count": 79,
   "metadata": {},
   "outputs": [
    {
     "data": {
      "text/html": [
       "<div>\n",
       "<style scoped>\n",
       "    .dataframe tbody tr th:only-of-type {\n",
       "        vertical-align: middle;\n",
       "    }\n",
       "\n",
       "    .dataframe tbody tr th {\n",
       "        vertical-align: top;\n",
       "    }\n",
       "\n",
       "    .dataframe thead th {\n",
       "        text-align: right;\n",
       "    }\n",
       "</style>\n",
       "<table border=\"1\" class=\"dataframe\">\n",
       "  <thead>\n",
       "    <tr style=\"text-align: right;\">\n",
       "      <th></th>\n",
       "      <th>LVIDD</th>\n",
       "      <th>LVIDS</th>\n",
       "      <th>LA</th>\n",
       "      <th>EF</th>\n",
       "      <th>MA_DEC</th>\n",
       "      <th>EA_RATIO</th>\n",
       "      <th>MWS</th>\n",
       "      <th>CWS</th>\n",
       "    </tr>\n",
       "  </thead>\n",
       "  <tbody>\n",
       "    <tr>\n",
       "      <th>count</th>\n",
       "      <td>596.000000</td>\n",
       "      <td>565.000000</td>\n",
       "      <td>528.000000</td>\n",
       "      <td>768.000000</td>\n",
       "      <td>274.000000</td>\n",
       "      <td>275.000000</td>\n",
       "      <td>762.000000</td>\n",
       "      <td>758.000000</td>\n",
       "    </tr>\n",
       "    <tr>\n",
       "      <th>mean</th>\n",
       "      <td>5.913423</td>\n",
       "      <td>4.753097</td>\n",
       "      <td>4.174432</td>\n",
       "      <td>36.881510</td>\n",
       "      <td>179.394161</td>\n",
       "      <td>1.497818</td>\n",
       "      <td>220.332808</td>\n",
       "      <td>420.421161</td>\n",
       "    </tr>\n",
       "    <tr>\n",
       "      <th>std</th>\n",
       "      <td>0.980767</td>\n",
       "      <td>1.223359</td>\n",
       "      <td>0.837119</td>\n",
       "      <td>14.372681</td>\n",
       "      <td>107.244362</td>\n",
       "      <td>1.366011</td>\n",
       "      <td>69.137602</td>\n",
       "      <td>103.712913</td>\n",
       "    </tr>\n",
       "    <tr>\n",
       "      <th>min</th>\n",
       "      <td>3.900000</td>\n",
       "      <td>2.100000</td>\n",
       "      <td>2.200000</td>\n",
       "      <td>5.000000</td>\n",
       "      <td>42.000000</td>\n",
       "      <td>0.250000</td>\n",
       "      <td>69.520000</td>\n",
       "      <td>176.880000</td>\n",
       "    </tr>\n",
       "    <tr>\n",
       "      <th>25%</th>\n",
       "      <td>5.200000</td>\n",
       "      <td>3.800000</td>\n",
       "      <td>3.600000</td>\n",
       "      <td>25.000000</td>\n",
       "      <td>107.000000</td>\n",
       "      <td>0.655000</td>\n",
       "      <td>172.402500</td>\n",
       "      <td>348.567500</td>\n",
       "    </tr>\n",
       "    <tr>\n",
       "      <th>50%</th>\n",
       "      <td>5.800000</td>\n",
       "      <td>4.700000</td>\n",
       "      <td>4.100000</td>\n",
       "      <td>35.000000</td>\n",
       "      <td>151.000000</td>\n",
       "      <td>0.970000</td>\n",
       "      <td>210.815000</td>\n",
       "      <td>412.150000</td>\n",
       "    </tr>\n",
       "    <tr>\n",
       "      <th>75%</th>\n",
       "      <td>6.450000</td>\n",
       "      <td>5.600000</td>\n",
       "      <td>4.700000</td>\n",
       "      <td>47.000000</td>\n",
       "      <td>228.000000</td>\n",
       "      <td>1.820000</td>\n",
       "      <td>258.280000</td>\n",
       "      <td>482.687500</td>\n",
       "    </tr>\n",
       "    <tr>\n",
       "      <th>max</th>\n",
       "      <td>9.100000</td>\n",
       "      <td>8.400000</td>\n",
       "      <td>8.200000</td>\n",
       "      <td>79.000000</td>\n",
       "      <td>696.000000</td>\n",
       "      <td>9.800000</td>\n",
       "      <td>531.710000</td>\n",
       "      <td>788.180000</td>\n",
       "    </tr>\n",
       "  </tbody>\n",
       "</table>\n",
       "</div>"
      ],
      "text/plain": [
       "            LVIDD       LVIDS          LA          EF      MA_DEC    EA_RATIO  \\\n",
       "count  596.000000  565.000000  528.000000  768.000000  274.000000  275.000000   \n",
       "mean     5.913423    4.753097    4.174432   36.881510  179.394161    1.497818   \n",
       "std      0.980767    1.223359    0.837119   14.372681  107.244362    1.366011   \n",
       "min      3.900000    2.100000    2.200000    5.000000   42.000000    0.250000   \n",
       "25%      5.200000    3.800000    3.600000   25.000000  107.000000    0.655000   \n",
       "50%      5.800000    4.700000    4.100000   35.000000  151.000000    0.970000   \n",
       "75%      6.450000    5.600000    4.700000   47.000000  228.000000    1.820000   \n",
       "max      9.100000    8.400000    8.200000   79.000000  696.000000    9.800000   \n",
       "\n",
       "              MWS         CWS  \n",
       "count  762.000000  758.000000  \n",
       "mean   220.332808  420.421161  \n",
       "std     69.137602  103.712913  \n",
       "min     69.520000  176.880000  \n",
       "25%    172.402500  348.567500  \n",
       "50%    210.815000  412.150000  \n",
       "75%    258.280000  482.687500  \n",
       "max    531.710000  788.180000  "
      ]
     },
     "execution_count": 79,
     "metadata": {},
     "output_type": "execute_result"
    }
   ],
   "source": [
    "df.describe()"
   ]
  },
  {
   "cell_type": "code",
   "execution_count": 6,
   "metadata": {},
   "outputs": [
    {
     "name": "stdout",
     "output_type": "stream",
     "text": [
      "<class 'pandas.core.frame.DataFrame'>\n",
      "RangeIndex: 778 entries, 0 to 777\n",
      "Data columns (total 9 columns):\n",
      " #   Column    Non-Null Count  Dtype  \n",
      "---  ------    --------------  -----  \n",
      " 0   LVIDD     596 non-null    float64\n",
      " 1   LVIDS     565 non-null    float64\n",
      " 2   LA        528 non-null    float64\n",
      " 3   EF        768 non-null    float64\n",
      " 4   MA_DEC    274 non-null    float64\n",
      " 5   EA_RATIO  275 non-null    float64\n",
      " 6   MWS       762 non-null    float64\n",
      " 7   CWS       758 non-null    float64\n",
      " 8   Y         778 non-null    object \n",
      "dtypes: float64(8), object(1)\n",
      "memory usage: 54.8+ KB\n"
     ]
    }
   ],
   "source": [
    "df.info()"
   ]
  },
  {
   "cell_type": "markdown",
   "metadata": {},
   "source": [
    "<a id='data-visualization'></a>\n",
    "## Data visualization\n",
    "<a id='imbalanced-target'></a>\n",
    "### Imbalanced target\n",
    "The base rate of y is around 82%, so the data set is imbalanced. Must keep this in mind when train models."
   ]
  },
  {
   "cell_type": "code",
   "execution_count": 7,
   "metadata": {},
   "outputs": [
    {
     "data": {
      "image/png": "[encoded data removed]",
      "text/plain": [
       "<Figure size 432x288 with 1 Axes>"
      ]
     },
     "metadata": {
      "needs_background": "light"
     },
     "output_type": "display_data"
    }
   ],
   "source": [
    "ax1 = sns.countplot(x='Y', data=df, order = df.Y.value_counts().index)\n",
    "for p in ax1.patches:\n",
    "    ax1.annotate('{0:.3}'.format(p.get_height()/len(df)), (p.get_x()+0.28, p.get_height()+0.8))\n",
    "ax1.set_title(\"Y\", fontsize='16')\n",
    "ax1.set_ylabel('Count', fontsize='14')\n",
    "ax1.set_xlabel('Y',fontsize='14')\n",
    "\n",
    "plt.show()"
   ]
  },
  {
   "cell_type": "markdown",
   "metadata": {},
   "source": [
    "<a id='distributions-of-numerical-variables'></a>\n",
    "### Distributions of numeric variables"
   ]
  },
  {
   "cell_type": "code",
   "execution_count": 8,
   "metadata": {},
   "outputs": [],
   "source": [
    "## Extract the list of features\n",
    "features=list(df.columns)\n",
    "features.remove('Y')"
   ]
  },
  {
   "cell_type": "code",
   "execution_count": 9,
   "metadata": {},
   "outputs": [
    {
     "data": {
      "image/png": "[encoded data removed]",
      "text/plain": [
       "<Figure size 720x648 with 8 Axes>"
      ]
     },
     "metadata": {
      "needs_background": "light"
     },
     "output_type": "display_data"
    }
   ],
   "source": [
    "fig, axes = plt.subplots(nrows=2, ncols=4, sharey= 'row', figsize=(10,9))\n",
    "\n",
    "ax1=axes[0,0]\n",
    "ax2=axes[0,1]\n",
    "ax3=axes[0,2]\n",
    "ax4=axes[0,3]\n",
    "ax5=axes[1,0]\n",
    "ax6=axes[1,1]\n",
    "ax7=axes[1,2]\n",
    "ax8=axes[1,3]\n",
    "\n",
    "df.LVIDD.plot(kind='hist', bins=100, ax=ax1, log=False)\n",
    "df.LVIDS.plot(kind='hist', bins=100,ax=ax2, log=False)\n",
    "df.LA.plot(kind='hist', bins=100,ax=ax3, log=False)\n",
    "df.EF.plot(kind='hist', bins=100, ax=ax4, log=False)\n",
    "df.MA_DEC.plot(kind='hist', bins=100,ax=ax5, log=False)\n",
    "df.EA_RATIO.plot(kind='hist', bins=100,ax=ax6, log=False)\n",
    "df.MWS.plot(kind='hist', bins=100,ax=ax7, log=False)\n",
    "df.CWS.plot(kind='hist', bins=100,ax=ax8, log=False)\n",
    "\n",
    "\n",
    "ax1.title.set_text('LVIDD')\n",
    "ax2.title.set_text('LVIDS')\n",
    "ax3.title.set_text('LA')\n",
    "ax4.title.set_text('EF')\n",
    "ax5.title.set_text('MA_DEC')\n",
    "ax6.title.set_text('EA_RATIO')\n",
    "ax7.title.set_text('MWS')\n",
    "ax8.title.set_text('CWS')\n",
    "\n",
    "plt.show()"
   ]
  },
  {
   "cell_type": "markdown",
   "metadata": {},
   "source": [
    "From the outplots above, except MA_DEC and EA_RATIO, most of the distributions are approximately normally distributed"
   ]
  },
  {
   "cell_type": "markdown",
   "metadata": {},
   "source": [
    "<a id='numerical-variables-VS-target'></a>\n",
    "### Numerical variables VS target"
   ]
  },
  {
   "cell_type": "code",
   "execution_count": 10,
   "metadata": {},
   "outputs": [
    {
     "data": {
      "image/png": "[encoded data removed]",
      "text/plain": [
       "<Figure size 864x360 with 8 Axes>"
      ]
     },
     "metadata": {
      "needs_background": "light"
     },
     "output_type": "display_data"
    }
   ],
   "source": [
    "fig= plt.subplots(figsize=(12, 5))\n",
    "ax1 = plt.subplot2grid((2, 4), (0, 0))\n",
    "ax2 = plt.subplot2grid((2, 4), (0, 1))\n",
    "ax3 = plt.subplot2grid((2, 4), (0, 2))\n",
    "ax4 = plt.subplot2grid((2, 4), (0, 3))\n",
    "ax5 = plt.subplot2grid((2, 4), (1, 0))\n",
    "ax6 = plt.subplot2grid((2, 4), (1, 1))\n",
    "ax7 = plt.subplot2grid((2, 4), (1, 2))\n",
    "ax8 = plt.subplot2grid((2, 4), (1, 3))\n",
    "\n",
    "ax=[]\n",
    "ax.extend((ax1,ax2,ax3, ax4,ax5,ax6,ax7,ax8))\n",
    "\n",
    "for i in range(8):\n",
    "    df2 = df[df.Y == 'Normal.']\n",
    "    sns.distplot(df2[features[i]], hist =False, kde = True, label='Normal', ax=ax[i])\n",
    "    df2 = df[df.Y =='LVH.']\n",
    "    sns.distplot(df2[features[i]], hist =False, kde = True, label='LVH', ax=ax[i])\n",
    "    \n",
    "    ax[i].set_xlabel(features[i], fontsize=12)\n",
    "    ax[i].set_ylabel('Density', fontsize=12)\n",
    "    ax[i].set_title(features[i], fontsize=16)\n",
    "    plt.tight_layout()\n",
    "    i += 1\n",
    "    \n",
    "plt.show()"
   ]
  },
  {
   "cell_type": "markdown",
   "metadata": {},
   "source": [
    "From the outplot above, all the variables, epspecially LVIDD, LVIDS, and EF, have different distributions in Y= Normal and Y= LVH. It seems that all of these variables have great effective on target."
   ]
  },
  {
   "cell_type": "markdown",
   "metadata": {},
   "source": [
    "<a id='correlation-among-variables'></a>\n",
    "### Correlation among variables\n",
    "\n",
    "To check if there are highly correlated features which would be removed before modeling.\n",
    "\n",
    "The correlation between LVIDD and LVIDS is 0.93, the correlation between CWS and MWS is 0.97."
   ]
  },
  {
   "cell_type": "code",
   "execution_count": 11,
   "metadata": {},
   "outputs": [
    {
     "data": {
      "image/png": "[encoded data removed]",
      "text/plain": [
       "<Figure size 720x576 with 2 Axes>"
      ]
     },
     "metadata": {
      "needs_background": "light"
     },
     "output_type": "display_data"
    }
   ],
   "source": [
    "corr=df[features].corr(method='pearson')\n",
    "\n",
    "mask = np.zeros_like(corr, dtype=np.bool)\n",
    "mask[np.triu_indices_from(mask)] = True\n",
    "f, ax = plt.subplots(figsize=(10,8))\n",
    "cmap = sns.diverging_palette(20, 10, as_cmap=True)\n",
    "sns.heatmap(corr, annot=True,mask=mask, cmap=cmap, vmax=.3, center=0,\n",
    "            square=True, linewidths=.5, cbar_kws={\"shrink\": .5})\n",
    "plt.show()"
   ]
  },
  {
   "cell_type": "markdown",
   "metadata": {},
   "source": [
    "<a id='handling-missing-values'></a>\n",
    "## Handling missing values "
   ]
  },
  {
   "cell_type": "code",
   "execution_count": 80,
   "metadata": {},
   "outputs": [
    {
     "data": {
      "text/html": [
       "<div>\n",
       "<style scoped>\n",
       "    .dataframe tbody tr th:only-of-type {\n",
       "        vertical-align: middle;\n",
       "    }\n",
       "\n",
       "    .dataframe tbody tr th {\n",
       "        vertical-align: top;\n",
       "    }\n",
       "\n",
       "    .dataframe thead th {\n",
       "        text-align: right;\n",
       "    }\n",
       "</style>\n",
       "<table border=\"1\" class=\"dataframe\">\n",
       "  <thead>\n",
       "    <tr style=\"text-align: right;\">\n",
       "      <th></th>\n",
       "      <th>Count</th>\n",
       "      <th>% Missing</th>\n",
       "    </tr>\n",
       "  </thead>\n",
       "  <tbody>\n",
       "    <tr>\n",
       "      <th>MA_DEC</th>\n",
       "      <td>504</td>\n",
       "      <td>64.781491</td>\n",
       "    </tr>\n",
       "    <tr>\n",
       "      <th>EA_RATIO</th>\n",
       "      <td>503</td>\n",
       "      <td>64.652956</td>\n",
       "    </tr>\n",
       "    <tr>\n",
       "      <th>LA</th>\n",
       "      <td>250</td>\n",
       "      <td>32.133676</td>\n",
       "    </tr>\n",
       "    <tr>\n",
       "      <th>LVIDS</th>\n",
       "      <td>213</td>\n",
       "      <td>27.377892</td>\n",
       "    </tr>\n",
       "    <tr>\n",
       "      <th>LVIDD</th>\n",
       "      <td>182</td>\n",
       "      <td>23.393316</td>\n",
       "    </tr>\n",
       "    <tr>\n",
       "      <th>CWS</th>\n",
       "      <td>20</td>\n",
       "      <td>2.570694</td>\n",
       "    </tr>\n",
       "    <tr>\n",
       "      <th>MWS</th>\n",
       "      <td>16</td>\n",
       "      <td>2.056555</td>\n",
       "    </tr>\n",
       "    <tr>\n",
       "      <th>EF</th>\n",
       "      <td>10</td>\n",
       "      <td>1.285347</td>\n",
       "    </tr>\n",
       "  </tbody>\n",
       "</table>\n",
       "</div>"
      ],
      "text/plain": [
       "          Count  % Missing\n",
       "MA_DEC      504  64.781491\n",
       "EA_RATIO    503  64.652956\n",
       "LA          250  32.133676\n",
       "LVIDS       213  27.377892\n",
       "LVIDD       182  23.393316\n",
       "CWS          20   2.570694\n",
       "MWS          16   2.056555\n",
       "EF           10   1.285347"
      ]
     },
     "execution_count": 80,
     "metadata": {},
     "output_type": "execute_result"
    }
   ],
   "source": [
    "df_NA=pd.DataFrame(df[features].isna().sum(), columns=['Count'])\n",
    "df_NA['% Missing']=100*(df_NA.Count/len(df))\n",
    "df_NA.sort_values(by = ['% Missing'], ascending = False, na_position = 'first')"
   ]
  },
  {
   "cell_type": "markdown",
   "metadata": {},
   "source": [
    "From the table above, each variables contain missing values. \n",
    "\n",
    "1. The missing rate in both MA_DEC and EA_RATIO is around 65%, I would like to explore if I can not include them before modeling.\n",
    "2. Since the missing rate in CWS, MWS and EF is less than 5%, I would like to use median to impute missing values. \n",
    "3. The missing rate in  LA, LVIDS and LVIDD is from 20 ~ 35%, I would like to use multiple imputation to impute missing values. \n",
    "\n"
   ]
  },
  {
   "cell_type": "markdown",
   "metadata": {},
   "source": [
    "<a id='drop-MA_DEC-and-EA_RATIO-,-or-not-?'></a>\n",
    "### Drop MA_DEC and EA_RATIO, or not?"
   ]
  },
  {
   "cell_type": "code",
   "execution_count": 81,
   "metadata": {},
   "outputs": [],
   "source": [
    "## convert the target from string into number\n",
    "df.loc[df.Y=='Normal.', 'Y']=0\n",
    "df.loc[df.Y=='LVH.', 'Y']=1\n",
    "\n",
    "## convert the data type of Y into int\n",
    "df['Y']=pd.to_numeric(df['Y'])"
   ]
  },
  {
   "cell_type": "markdown",
   "metadata": {},
   "source": [
    "Split dataset into train and test"
   ]
  },
  {
   "cell_type": "code",
   "execution_count": 82,
   "metadata": {},
   "outputs": [],
   "source": [
    "X=df.copy()\n",
    "X=X.drop(columns=['Y'])\n",
    "X.fillna('na')\n",
    "y=df.Y\n",
    "\n",
    "\n",
    "## split data into training and testing \n",
    "X_train, X_test, y_train, y_test = train_test_split(X, y, test_size=0.25, random_state=2019)"
   ]
  },
  {
   "cell_type": "markdown",
   "metadata": {},
   "source": [
    "Split dataset into new train and validation"
   ]
  },
  {
   "cell_type": "code",
   "execution_count": 83,
   "metadata": {},
   "outputs": [],
   "source": [
    "## split X_train into training and validation \n",
    "X_train, X_val, y_train, y_val = train_test_split(X_train, y_train, test_size=0.25, random_state=2019)"
   ]
  },
  {
   "cell_type": "markdown",
   "metadata": {},
   "source": [
    "Run a baseline XGBClassifier"
   ]
  },
  {
   "cell_type": "code",
   "execution_count": 29,
   "metadata": {},
   "outputs": [
    {
     "name": "stdout",
     "output_type": "stream",
     "text": [
      "train_xgb_baseline ROC_AUC: 0.882\n",
      "val_xgb_baseline ROC_AUC: 0.836\n"
     ]
    }
   ],
   "source": [
    "## Baseline XGBClassifier\n",
    "xgb = XGBClassifier(class_weight='balanced') ## Since base rate of shroke is very rare, data should be balanced\n",
    "\n",
    "xgb_baseline_train = cross_val_score(xgb, X_train, y_train, scoring='roc_auc', cv=10).mean()\n",
    "xgb_baseline_val = cross_val_score(xgb, X_val, y_val, scoring='roc_auc',cv=10).mean()\n",
    "\n",
    "print('train_xgb_baseline ROC_AUC: {0:.3}'.format(xgb_baseline_train))\n",
    "print('val_xgb_baseline ROC_AUC: {0:.3}'.format(xgb_baseline_val))"
   ]
  },
  {
   "cell_type": "code",
   "execution_count": 30,
   "metadata": {},
   "outputs": [
    {
     "name": "stdout",
     "output_type": "stream",
     "text": [
      "train_xgb_baseline ROC_AUC: 0.889\n",
      "val_xgb_baseline ROC_AUC: 0.832\n"
     ]
    }
   ],
   "source": [
    "X_train_2=X_train.drop(columns=['MA_DEC','EA_RATIO'])\n",
    "X_val_2=X_val.drop(columns=['MA_DEC','EA_RATIO'])\n",
    "## Baseline XGBClassifier\n",
    "xgb = XGBClassifier(class_weight='balanced') ## Since base rate of shroke is very rare, data should be balanced\n",
    "\n",
    "xgb_baseline_train = cross_val_score(xgb, X_train_2, y_train, scoring='roc_auc', cv=10).mean()\n",
    "xgb_baseline_val = cross_val_score(xgb, X_val_2, y_val, scoring='roc_auc',cv=10).mean()\n",
    "\n",
    "print('train_xgb_baseline ROC_AUC: {0:.3}'.format(xgb_baseline_train))\n",
    "print('val_xgb_baseline ROC_AUC: {0:.3}'.format(xgb_baseline_val))"
   ]
  },
  {
   "cell_type": "markdown",
   "metadata": {},
   "source": [
    "XGBoostClassfier is robust to missing values, that's why I choose it to check if I can drop MA_DEC and EA_RATIO or not. Comparing the two baseline models with or without these two variables, the AUC values on validation are very close. So I would like to drop these two varibales from the dataset."
   ]
  },
  {
   "cell_type": "code",
   "execution_count": 84,
   "metadata": {},
   "outputs": [],
   "source": [
    "df=df.drop(columns=['MA_DEC','EA_RATIO'])"
   ]
  },
  {
   "cell_type": "markdown",
   "metadata": {},
   "source": [
    "<a id='imputation-with-median-in-CWS-,-MWS-and-EF'></a>\n",
    "### Imputation with median in CWS, MWS and EF\n",
    "\n",
    "In order to avoid data leakage, I use train median to impute missing values in both train and test."
   ]
  },
  {
   "cell_type": "code",
   "execution_count": 85,
   "metadata": {},
   "outputs": [],
   "source": [
    "X=df.copy()\n",
    "X=X.drop(columns=['Y'])\n",
    "X.fillna('na')\n",
    "y=df.Y\n",
    "\n",
    "## split data into training and testing \n",
    "X_train, X_test, y_train, y_test = train_test_split(X, y, test_size=0.25, random_state=2019)"
   ]
  },
  {
   "cell_type": "code",
   "execution_count": 86,
   "metadata": {},
   "outputs": [],
   "source": [
    "## imputate missing value in train and test\n",
    "ls=['CWS','MWS','EF']\n",
    "for ele in ls:\n",
    "    X_train.loc[X_train[ele].isna(), ele]=median(X_train[ele])\n",
    "    X_test.loc[X_test[ele].isna(), ele]=median(X_train[ele])  "
   ]
  },
  {
   "cell_type": "markdown",
   "metadata": {},
   "source": [
    "<a id='Multiple-imputation-in-LA-,-LVIDS-and-LVIDD'></a>\n",
    "### Multiple imputation in LA, LVIDS and LVIDD\n",
    "If I have more time, I would like to do multiple imputation several times, and use different imputed data for modeling. But here I only did once."
   ]
  },
  {
   "cell_type": "code",
   "execution_count": 91,
   "metadata": {},
   "outputs": [],
   "source": [
    "imp = IterativeImputer(random_state=0)\n",
    "\n",
    "X_train_imp=imp.fit_transform(X_train)\n",
    "\n",
    "X_test_imp=imp.transform(X_test)\n"
   ]
  },
  {
   "cell_type": "code",
   "execution_count": 93,
   "metadata": {},
   "outputs": [],
   "source": [
    "X_train_imp=pd.DataFrame(X_train_imp, columns=['LVIDD', 'LVIDS', 'LA', 'EF', 'MWS', 'CWS'])"
   ]
  },
  {
   "cell_type": "code",
   "execution_count": 95,
   "metadata": {},
   "outputs": [],
   "source": [
    "X_test_imp=pd.DataFrame(X_test_imp, columns=['LVIDD', 'LVIDS', 'LA', 'EF', 'MWS', 'CWS'])"
   ]
  },
  {
   "cell_type": "code",
   "execution_count": 96,
   "metadata": {},
   "outputs": [],
   "source": [
    "## split X_train into training and validation \n",
    "X_train_imp, X_val_imp, y_train, y_val = train_test_split(X_train_imp, y_train, test_size=0.25, random_state=2019)"
   ]
  },
  {
   "cell_type": "markdown",
   "metadata": {},
   "source": [
    "<a id='data-modeling'></a>\n",
    "## Data modeling\n",
    "<a id='randomforest-classifier'></a>\n",
    "### RandomForest Classifier\n",
    "\n",
    "RandomForest classifier is a tree-based algorithm, it has the following advantages:\n",
    "1. robust to outliers.\n",
    "2. quick train/prediction speed.\n",
    "3. provides the scores about feature importance, which can let you know the relationship features have with the target and the degree of influence they have on target. \n",
    "\n",
    "Baseline RandomForest model with imputed data"
   ]
  },
  {
   "cell_type": "code",
   "execution_count": 97,
   "metadata": {},
   "outputs": [
    {
     "name": "stdout",
     "output_type": "stream",
     "text": [
      "train_rf_baseline ROC_AUC: 0.921\n",
      "val_rf_baseline ROC_AUC: 0.942\n"
     ]
    }
   ],
   "source": [
    "## Baseline RandomForestClassifier\n",
    "rf = RandomForestClassifier(class_weight='balanced') ## Since base rate of shroke is very rare, data should be balanced\n",
    "\n",
    "rf_baseline_train = cross_val_score(rf, X_train_imp, y_train, scoring='roc_auc', cv=10).mean()\n",
    "rf_baseline_val = cross_val_score(rf, X_val_imp, y_val, scoring='roc_auc',cv=10).mean()\n",
    "\n",
    "print('train_rf_baseline ROC_AUC: {0:.3}'.format(rf_baseline_train))\n",
    "print('val_rf_baseline ROC_AUC: {0:.3}'.format(rf_baseline_val))"
   ]
  },
  {
   "cell_type": "markdown",
   "metadata": {},
   "source": [
    "#### Tune hyperparameters for RandomForest classifier with BayesianOptimization\n",
    "\n",
    "What does BayesianOptimization do? Build a probability model of the objective function and use it to select the most promising hyperparameters to evaluate in the true objective function. Advantages compared to GridSearch and RandomSearch:\n",
    "1. quick tuning speed\n",
    "2. search space is large and continous"
   ]
  },
  {
   "cell_type": "code",
   "execution_count": 114,
   "metadata": {},
   "outputs": [],
   "source": [
    "def rf_evaluate( n_estimators, max_depth, min_samples_split, min_samples_leaf,max_leaf_nodes): \n",
    "    rf_params = {  'n_estimators': int(n_estimators),                                                              \n",
    "                   'max_depth': int(max_depth),\n",
    "                   'min_samples_split':int(min_samples_split), \n",
    "                   'min_samples_leaf':int(min_samples_leaf),\n",
    "                   'max_leaf_nodes':int(max_leaf_nodes),\n",
    "                   'n_jobs':-1, \n",
    "                   'random_state':42 \n",
    "               }\n",
    "     \n",
    "    cv_result= cross_val_score(RandomForestClassifier(**rf_params, class_weight='balanced'),  ## ** unpack params for the function call\n",
    "               X=X_train_imp, \n",
    "               y=y_train, \n",
    "               cv=10,\n",
    "               scoring='roc_auc',\n",
    "               n_jobs=-1).mean()   \n",
    "    return cv_result\n",
    "\n",
    "rf_params = {\"n_estimators\": (100, 1000),\n",
    "            \"max_depth\": (3,20),\n",
    "            \"min_samples_split\": (2, 15),\n",
    "            'min_samples_leaf':(2,20),\n",
    "            \"max_leaf_nodes\": (10, 40)\n",
    "            }\n",
    "\n",
    "\n",
    "rf_bo = BayesianOptimization(rf_evaluate , rf_params)"
   ]
  },
  {
   "cell_type": "code",
   "execution_count": 115,
   "metadata": {},
   "outputs": [
    {
     "name": "stdout",
     "output_type": "stream",
     "text": [
      "|   iter    |  target   | max_depth | max_le... | min_sa... | min_sa... | n_esti... |\n",
      "-------------------------------------------------------------------------------------\n",
      "| \u001b[0m 1       \u001b[0m | \u001b[0m 0.9112  \u001b[0m | \u001b[0m 7.156   \u001b[0m | \u001b[0m 35.26   \u001b[0m | \u001b[0m 6.405   \u001b[0m | \u001b[0m 8.042   \u001b[0m | \u001b[0m 501.3   \u001b[0m |\n",
      "| \u001b[0m 2       \u001b[0m | \u001b[0m 0.9067  \u001b[0m | \u001b[0m 6.119   \u001b[0m | \u001b[0m 28.03   \u001b[0m | \u001b[0m 8.139   \u001b[0m | \u001b[0m 8.475   \u001b[0m | \u001b[0m 589.5   \u001b[0m |\n",
      "| \u001b[0m 3       \u001b[0m | \u001b[0m 0.9057  \u001b[0m | \u001b[0m 10.5    \u001b[0m | \u001b[0m 28.81   \u001b[0m | \u001b[0m 9.308   \u001b[0m | \u001b[0m 8.697   \u001b[0m | \u001b[0m 305.8   \u001b[0m |\n",
      "| \u001b[0m 4       \u001b[0m | \u001b[0m 0.909   \u001b[0m | \u001b[0m 19.57   \u001b[0m | \u001b[0m 27.01   \u001b[0m | \u001b[0m 8.556   \u001b[0m | \u001b[0m 14.5    \u001b[0m | \u001b[0m 228.1   \u001b[0m |\n",
      "| \u001b[0m 5       \u001b[0m | \u001b[0m 0.8967  \u001b[0m | \u001b[0m 19.44   \u001b[0m | \u001b[0m 28.24   \u001b[0m | \u001b[0m 19.41   \u001b[0m | \u001b[0m 13.79   \u001b[0m | \u001b[0m 412.3   \u001b[0m |\n",
      "| \u001b[95m 6       \u001b[0m | \u001b[95m 0.9124  \u001b[0m | \u001b[95m 14.83   \u001b[0m | \u001b[95m 39.38   \u001b[0m | \u001b[95m 2.057   \u001b[0m | \u001b[95m 8.021   \u001b[0m | \u001b[95m 993.3   \u001b[0m |\n",
      "| \u001b[0m 7       \u001b[0m | \u001b[0m 0.9071  \u001b[0m | \u001b[0m 4.894   \u001b[0m | \u001b[0m 39.07   \u001b[0m | \u001b[0m 2.556   \u001b[0m | \u001b[0m 13.47   \u001b[0m | \u001b[0m 101.8   \u001b[0m |\n",
      "| \u001b[95m 8       \u001b[0m | \u001b[95m 0.9153  \u001b[0m | \u001b[95m 19.57   \u001b[0m | \u001b[95m 38.21   \u001b[0m | \u001b[95m 2.023   \u001b[0m | \u001b[95m 2.737   \u001b[0m | \u001b[95m 559.6   \u001b[0m |\n",
      "| \u001b[0m 9       \u001b[0m | \u001b[0m 0.9106  \u001b[0m | \u001b[0m 19.04   \u001b[0m | \u001b[0m 37.52   \u001b[0m | \u001b[0m 2.03    \u001b[0m | \u001b[0m 14.41   \u001b[0m | \u001b[0m 403.5   \u001b[0m |\n",
      "| \u001b[0m 10      \u001b[0m | \u001b[0m 0.9039  \u001b[0m | \u001b[0m 19.41   \u001b[0m | \u001b[0m 10.78   \u001b[0m | \u001b[0m 3.031   \u001b[0m | \u001b[0m 3.739   \u001b[0m | \u001b[0m 133.7   \u001b[0m |\n",
      "=====================================================================================\n"
     ]
    }
   ],
   "source": [
    "rf_bo.maximize(init_points=5, n_iter=5, acq='ei')"
   ]
  },
  {
   "cell_type": "code",
   "execution_count": 116,
   "metadata": {},
   "outputs": [
    {
     "name": "stdout",
     "output_type": "stream",
     "text": [
      "{'max_depth': 19.573915567200878, 'max_leaf_nodes': 38.21017350940369, 'min_samples_leaf': 2.0233579361270504, 'min_samples_split': 2.736885274618527, 'n_estimators': 559.6498102532316}\n"
     ]
    }
   ],
   "source": [
    "## get the best parameters \n",
    "rf_params = rf_bo.max['params']\n",
    "\n",
    "print(rf_params)"
   ]
  },
  {
   "cell_type": "code",
   "execution_count": 117,
   "metadata": {},
   "outputs": [
    {
     "name": "stdout",
     "output_type": "stream",
     "text": [
      "train_rf_baseline ROC_AUC: 0.921\n",
      "train_rf_tuned ROC_AUC: 0.909\n",
      " \n",
      "val_rf_baseline ROC_AUC: 0.942\n",
      "val_rf_tuned ROC_AUC: 0.939\n"
     ]
    }
   ],
   "source": [
    "rf_tuned = RandomForestClassifier(max_depth=19, \n",
    "                                  min_samples_split=2, \n",
    "                                  n_estimators= 559, \n",
    "                                  min_samples_leaf=2,\n",
    "                                  max_leaf_nodes=38,\n",
    "                                  class_weight='balanced')\n",
    "                                 \n",
    "rf_tuned = rf_tuned.fit(X_train_imp, y_train)\n",
    "\n",
    "rf_tuned_train_ROC_AUC = cross_val_score(rf_tuned, X_train_imp, y_train, scoring='roc_auc').mean()\n",
    "rf_tuned_val_ROC_AUC = cross_val_score(rf_tuned, X_val_imp, y_val, scoring='roc_auc').mean()\n",
    "\n",
    "print('train_rf_baseline ROC_AUC: {0:.3}'.format(rf_baseline_train))\n",
    "print('train_rf_tuned ROC_AUC: {0:.3}'.format(rf_tuned_train_ROC_AUC))\n",
    "\n",
    "print(' ')\n",
    "\n",
    "print('val_rf_baseline ROC_AUC: {0:.3}'.format(rf_baseline_val))\n",
    "print('val_rf_tuned ROC_AUC: {0:.3}'.format(rf_tuned_val_ROC_AUC))"
   ]
  },
  {
   "cell_type": "markdown",
   "metadata": {},
   "source": [
    "From the results above, it seems the performance of baseline model is a little bit better than the tunded one. Since the time limitation, I would not like to spend to much time for tuning. "
   ]
  },
  {
   "cell_type": "markdown",
   "metadata": {},
   "source": [
    "#### Make prediction on test"
   ]
  },
  {
   "cell_type": "code",
   "execution_count": 118,
   "metadata": {},
   "outputs": [
    {
     "name": "stdout",
     "output_type": "stream",
     "text": [
      "test_rf_baseline ROC_AUC: 0.921\n",
      "test_rf_tuned ROC_AUC: 0.909\n"
     ]
    }
   ],
   "source": [
    "rf_test_ROC_AUC = cross_val_score(rf, X_test_imp, y_test, scoring='roc_auc').mean()\n",
    "rf_tuned_test_ROC_AUC = cross_val_score(rf_tuned, X_test_imp, y_test, scoring='roc_auc').mean()\n",
    "\n",
    "print('test_rf_baseline ROC_AUC: {0:.3}'.format(rf_baseline_train))\n",
    "print('test_rf_tuned ROC_AUC: {0:.3}'.format(rf_tuned_train_ROC_AUC))"
   ]
  },
  {
   "cell_type": "markdown",
   "metadata": {},
   "source": [
    "#### Feature importance\n",
    "Feature importance rank from baseline model"
   ]
  },
  {
   "cell_type": "code",
   "execution_count": 125,
   "metadata": {},
   "outputs": [
    {
     "data": {
      "image/png": "[encoded data removed]",
      "text/plain": [
       "<Figure size 360x360 with 1 Axes>"
      ]
     },
     "metadata": {
      "needs_background": "light"
     },
     "output_type": "display_data"
    }
   ],
   "source": [
    "rf = rf.fit(X_train_imp, y_train)\n",
    "rf_fscores=pd.DataFrame(rf.feature_importances_)\n",
    "\n",
    "feats = {} # a dict to hold feature_name: feature_importance\n",
    "for feature, importance in zip(X_train_imp.columns, rf_tuned.feature_importances_):\n",
    "    feats[feature] = importance #add the name/value pair \n",
    "\n",
    "rf_importances = pd.DataFrame.from_dict(feats, orient='index').rename(columns={0: 'Gini_importance'})\n",
    "\n",
    "plt.figure(figsize=(5, 5))\n",
    "importances=rf_importances.sort_values(by='Gini_importance', ascending=False)\n",
    "sns.barplot(x='Gini_importance', y=importances.index, data=importances)\n",
    "plt.tight_layout()\n",
    "plt.show()"
   ]
  },
  {
   "cell_type": "markdown",
   "metadata": {},
   "source": [
    "Feature importance rank from tuned model"
   ]
  },
  {
   "cell_type": "code",
   "execution_count": 121,
   "metadata": {},
   "outputs": [
    {
     "data": {
      "image/png": "[encoded data removed]",
      "text/plain": [
       "<Figure size 360x360 with 1 Axes>"
      ]
     },
     "metadata": {
      "needs_background": "light"
     },
     "output_type": "display_data"
    }
   ],
   "source": [
    "rf_fscores=pd.DataFrame(rf_tuned.feature_importances_)\n",
    "\n",
    "feats = {} # a dict to hold feature_name: feature_importance\n",
    "for feature, importance in zip(X_train_imp.columns, rf_tuned.feature_importances_):\n",
    "    feats[feature] = importance #add the name/value pair \n",
    "\n",
    "rf_importances = pd.DataFrame.from_dict(feats, orient='index').rename(columns={0: 'Gini_importance'})\n",
    "\n",
    "plt.figure(figsize=(5, 5))\n",
    "importances=rf_importances.sort_values(by='Gini_importance', ascending=False)\n",
    "sns.barplot(x='Gini_importance', y=importances.index, data=importances)\n",
    "plt.tight_layout()\n",
    "plt.show()"
   ]
  },
  {
   "cell_type": "markdown",
   "metadata": {},
   "source": [
    "The rank of the features are roughly consistent with the insights from data visualization"
   ]
  },
  {
   "cell_type": "markdown",
   "metadata": {},
   "source": [
    "<a id='xgboost-classifier'></a>\n",
    "### XGBoost Classifier\n",
    "Baseline XGBoostClassifier"
   ]
  },
  {
   "cell_type": "code",
   "execution_count": 98,
   "metadata": {},
   "outputs": [
    {
     "name": "stdout",
     "output_type": "stream",
     "text": [
      "train_xgb_baseline ROC_AUC: 0.917\n",
      "val_xgb_baseline ROC_AUC: 0.908\n"
     ]
    }
   ],
   "source": [
    "## Baseline XGBClassifier\n",
    "xgb = XGBClassifier(class_weight='balanced') ## Since base rate of shroke is very rare, data should be balanced\n",
    "\n",
    "xgb_baseline_train = cross_val_score(xgb, X_train_imp, y_train, scoring='roc_auc', cv=10).mean()\n",
    "xgb_baseline_val = cross_val_score(xgb, X_val_imp, y_val, scoring='roc_auc',cv=10).mean()\n",
    "\n",
    "print('train_xgb_baseline ROC_AUC: {0:.3}'.format(xgb_baseline_train))\n",
    "print('val_xgb_baseline ROC_AUC: {0:.3}'.format(xgb_baseline_val))"
   ]
  },
  {
   "cell_type": "markdown",
   "metadata": {},
   "source": [
    "#### Tuner hyperparameter for XGBoostClassifier"
   ]
  },
  {
   "cell_type": "code",
   "execution_count": 99,
   "metadata": {},
   "outputs": [],
   "source": [
    "def xgb_evaluate( n_estimators, max_depth,learning_rate, colsample_bytree,subsample,gamma): \n",
    "    xgb_params = {  'n_estimators': int(n_estimators),                                                              \n",
    "                   'max_depth': int(max_depth),\n",
    "                   'learning_rate':learning_rate, \n",
    "                   'colsample_bytree':colsample_bytree,\n",
    "                   'subsample':subsample,\n",
    "                   'gamma':gamma, \n",
    "                   'random_state':42 \n",
    "               }\n",
    "     \n",
    "    cv_result= cross_val_score(XGBClassifier(**xgb_params, class_weight='balanced'),  ## ** unpack params for the function call\n",
    "               X=X_train_imp, \n",
    "               y=y_train, \n",
    "               cv=10,\n",
    "               scoring='roc_auc',\n",
    "               n_jobs=-1).mean()   \n",
    "    return cv_result\n",
    "\n",
    "xgb_params = {\"n_estimators\": (300, 1000),\n",
    "            \"max_depth\": (3, 20),\n",
    "            \"learning_rate\": (0.01, 0.1),\n",
    "            'colsample_bytree':(0.8,1),\n",
    "            \"subsample\": (0.8, 1),\n",
    "              'gamma':(0,5)\n",
    "              \n",
    "            }\n",
    "\n",
    "\n",
    "xgb_bo = BayesianOptimization(xgb_evaluate , xgb_params)"
   ]
  },
  {
   "cell_type": "code",
   "execution_count": 100,
   "metadata": {},
   "outputs": [
    {
     "name": "stdout",
     "output_type": "stream",
     "text": [
      "|   iter    |  target   | colsam... |   gamma   | learni... | max_depth | n_esti... | subsample |\n",
      "-------------------------------------------------------------------------------------------------\n",
      "| \u001b[0m 1       \u001b[0m | \u001b[0m 0.9147  \u001b[0m | \u001b[0m 0.9284  \u001b[0m | \u001b[0m 2.505   \u001b[0m | \u001b[0m 0.0874  \u001b[0m | \u001b[0m 18.42   \u001b[0m | \u001b[0m 674.2   \u001b[0m | \u001b[0m 0.9199  \u001b[0m |\n",
      "| \u001b[95m 2       \u001b[0m | \u001b[95m 0.9194  \u001b[0m | \u001b[95m 0.8319  \u001b[0m | \u001b[95m 0.6837  \u001b[0m | \u001b[95m 0.059   \u001b[0m | \u001b[95m 18.44   \u001b[0m | \u001b[95m 764.4   \u001b[0m | \u001b[95m 0.9175  \u001b[0m |\n",
      "| \u001b[0m 3       \u001b[0m | \u001b[0m 0.9181  \u001b[0m | \u001b[0m 0.9607  \u001b[0m | \u001b[0m 0.9161  \u001b[0m | \u001b[0m 0.01006 \u001b[0m | \u001b[0m 11.31   \u001b[0m | \u001b[0m 397.2   \u001b[0m | \u001b[0m 0.8215  \u001b[0m |\n",
      "| \u001b[0m 4       \u001b[0m | \u001b[0m 0.918   \u001b[0m | \u001b[0m 0.8757  \u001b[0m | \u001b[0m 1.06    \u001b[0m | \u001b[0m 0.04411 \u001b[0m | \u001b[0m 12.12   \u001b[0m | \u001b[0m 525.1   \u001b[0m | \u001b[0m 0.8173  \u001b[0m |\n",
      "| \u001b[0m 5       \u001b[0m | \u001b[0m 0.9174  \u001b[0m | \u001b[0m 0.9703  \u001b[0m | \u001b[0m 2.692   \u001b[0m | \u001b[0m 0.09365 \u001b[0m | \u001b[0m 7.104   \u001b[0m | \u001b[0m 470.4   \u001b[0m | \u001b[0m 0.9406  \u001b[0m |\n",
      "| \u001b[95m 6       \u001b[0m | \u001b[95m 0.9211  \u001b[0m | \u001b[95m 0.9285  \u001b[0m | \u001b[95m 1.886   \u001b[0m | \u001b[95m 0.05435 \u001b[0m | \u001b[95m 3.224   \u001b[0m | \u001b[95m 999.5   \u001b[0m | \u001b[95m 0.833   \u001b[0m |\n",
      "| \u001b[0m 7       \u001b[0m | \u001b[0m 0.9096  \u001b[0m | \u001b[0m 0.9907  \u001b[0m | \u001b[0m 4.686   \u001b[0m | \u001b[0m 0.03441 \u001b[0m | \u001b[0m 3.416   \u001b[0m | \u001b[0m 999.9   \u001b[0m | \u001b[0m 0.9665  \u001b[0m |\n",
      "| \u001b[0m 8       \u001b[0m | \u001b[0m 0.9047  \u001b[0m | \u001b[0m 0.9957  \u001b[0m | \u001b[0m 0.006439\u001b[0m | \u001b[0m 0.06614 \u001b[0m | \u001b[0m 3.207   \u001b[0m | \u001b[0m 727.9   \u001b[0m | \u001b[0m 0.9683  \u001b[0m |\n",
      "| \u001b[0m 9       \u001b[0m | \u001b[0m 0.9079  \u001b[0m | \u001b[0m 0.8389  \u001b[0m | \u001b[0m 0.05837 \u001b[0m | \u001b[0m 0.07551 \u001b[0m | \u001b[0m 19.87   \u001b[0m | \u001b[0m 998.9   \u001b[0m | \u001b[0m 0.8344  \u001b[0m |\n",
      "| \u001b[0m 10      \u001b[0m | \u001b[0m 0.9111  \u001b[0m | \u001b[0m 0.948   \u001b[0m | \u001b[0m 0.03885 \u001b[0m | \u001b[0m 0.02642 \u001b[0m | \u001b[0m 3.36    \u001b[0m | \u001b[0m 905.6   \u001b[0m | \u001b[0m 0.954   \u001b[0m |\n",
      "=================================================================================================\n"
     ]
    }
   ],
   "source": [
    "xgb_bo.maximize(init_points=5, n_iter=5, acq='ei')"
   ]
  },
  {
   "cell_type": "code",
   "execution_count": 56,
   "metadata": {},
   "outputs": [
    {
     "name": "stdout",
     "output_type": "stream",
     "text": [
      "{'colsample_bytree': 0.8601696435763482, 'gamma': 0.0026021168855544508, 'learning_rate': 0.011055593320367704, 'max_depth': 3.266765858472574, 'n_estimators': 637.8485201587903, 'subsample': 0.9482101673140436}\n"
     ]
    }
   ],
   "source": [
    "## get the best parameters \n",
    "xgb_params = xgb_bo.max['params']\n",
    "\n",
    "print(xgb_params)"
   ]
  },
  {
   "cell_type": "code",
   "execution_count": 101,
   "metadata": {},
   "outputs": [
    {
     "name": "stdout",
     "output_type": "stream",
     "text": [
      "train_xgb_baseline ROC_AUC: 0.917\n",
      "train_xgb_tuned ROC_AUC: 0.92\n",
      " \n",
      "val_xgb_baseline ROC_AUC: 0.908\n",
      "val_xgb_tuned ROC_AUC: 0.889\n"
     ]
    }
   ],
   "source": [
    "xgb_tuned = XGBClassifier(colsample_bytree=0.8601696435763482,\n",
    "                          gamma=0.0026021168855544508,\n",
    "                          learning_rate=0.011055593320367704,\n",
    "                          max_depth=3,\n",
    "                          n_estimators=637,\n",
    "                          subsample= 0.9482101673140436,\n",
    "                          class_weight='balanced')\n",
    "                                 \n",
    "xgb_tuned = xgb_tuned.fit(X_train_imp, y_train)\n",
    "\n",
    "xgb_tuned_train_ROC_AUC = cross_val_score(xgb_tuned, X_train_imp, y_train, scoring='roc_auc').mean()\n",
    "xgb_tuned_val_ROC_AUC = cross_val_score(xgb_tuned, X_val_imp, y_val, scoring='roc_auc').mean()\n",
    "\n",
    "print('train_xgb_baseline ROC_AUC: {0:.3}'.format(xgb_baseline_train))\n",
    "print('train_xgb_tuned ROC_AUC: {0:.3}'.format(xgb_tuned_train_ROC_AUC))\n",
    "\n",
    "print(' ')\n",
    "\n",
    "print('val_xgb_baseline ROC_AUC: {0:.3}'.format(xgb_baseline_val))\n",
    "print('val_xgb_tuned ROC_AUC: {0:.3}'.format(xgb_tuned_val_ROC_AUC))"
   ]
  },
  {
   "cell_type": "markdown",
   "metadata": {},
   "source": [
    "The model perfomance on train has been improved by tuning, but not in validation set. Since the limitation of time, I would not like to spend more time to tune model."
   ]
  },
  {
   "cell_type": "markdown",
   "metadata": {},
   "source": [
    "#### Prediction on test"
   ]
  },
  {
   "cell_type": "code",
   "execution_count": 107,
   "metadata": {},
   "outputs": [
    {
     "name": "stdout",
     "output_type": "stream",
     "text": [
      "test_xgb_baseline ROC_AUC: 0.917\n",
      "test_xgb_tuned ROC_AUC: 0.92\n"
     ]
    }
   ],
   "source": [
    "xgb_test_ROC_AUC = cross_val_score(xgb, X_test_imp, y_test, scoring='roc_auc').mean()\n",
    "xgb_tuned_test_ROC_AUC = cross_val_score(xgb_tuned, X_test_imp, y_test, scoring='roc_auc').mean()\n",
    "\n",
    "print('test_xgb_baseline ROC_AUC: {0:.3}'.format(xgb_baseline_train))\n",
    "print('test_xgb_tuned ROC_AUC: {0:.3}'.format(xgb_tuned_train_ROC_AUC))"
   ]
  },
  {
   "cell_type": "markdown",
   "metadata": {},
   "source": [
    "#### Feature importance"
   ]
  },
  {
   "cell_type": "code",
   "execution_count": 129,
   "metadata": {},
   "outputs": [
    {
     "data": {
      "image/png": "[encoded data removed]",
      "text/plain": [
       "<Figure size 360x360 with 1 Axes>"
      ]
     },
     "metadata": {
      "needs_background": "light"
     },
     "output_type": "display_data"
    }
   ],
   "source": [
    "xgb_fscores=pd.DataFrame(xgb_tuned.feature_importances_)\n",
    "\n",
    "feats = {} # a dict to hold feature_name: feature_importance\n",
    "for feature, importance in zip(X_train_imp.columns, xgb_tuned.feature_importances_):\n",
    "    feats[feature] = importance #add the name/value pair \n",
    "\n",
    "xgb_importances = pd.DataFrame.from_dict(feats, orient='index').rename(columns={0: 'Importance'})\n",
    "\n",
    "plt.figure(figsize=(5, 5))\n",
    "importances=xgb_importances.sort_values(by='Importance', ascending=False)\n",
    "sns.barplot(x='Importance', y=importances.index, data=importances)\n",
    "plt.tight_layout()"
   ]
  },
  {
   "cell_type": "markdown",
   "metadata": {},
   "source": [
    "The rank of features here is not the same as that got from RandomForestClassifier. But, at least the top 1 and the bottom 1 are the same."
   ]
  },
  {
   "cell_type": "markdown",
   "metadata": {},
   "source": [
    "<a id='conclusion'></a>\n",
    "## Conclusion\n",
    "\n",
    "Based on the dataset and the very limited information, I have built two classifiers: RandomForest and XGBoost classifiers. According to the metrics -- AUC, I believe this two models are good enough to make accurate prediction on test data.\n",
    "\n",
    "If I have more time, I'd like to do:\n",
    "1. tune more hyperparameters for both models to get higher AUC.\n",
    "2. explore features carefully, like outliers detection.\n",
    "3. try some methods for feature selection, such as use importances to select features, chi-square test, and other more complex methods.\n",
    "4. built more models, and ensemble them to get better prediction.\n",
    "\n",
    "From my results, I think the six variables: LVIDD, LVIDS, MWS, CWS, LA and EF can adequately predict wheter the patient does or does not have left ventricular hypertrophy that should receive therapeutic attension. \n",
    "\n",
    "Since I used python for this challenge, honestly I don't know how to get the predictive interval for classification problem. If I have more time, I would like to do some research work to figure out this problem. I guess this question could be answered easily by using SAS. Unfortunately, I don't have access to SAS. "
   ]
  },
  {
   "cell_type": "code",
   "execution_count": null,
   "metadata": {},
   "outputs": [],
   "source": []
  }
 ],
 "metadata": {
  "hide_input": false,
  "kernelspec": {
   "display_name": "Python 3",
   "language": "python",
   "name": "python3"
  },
  "language_info": {
   "codemirror_mode": {
    "name": "ipython",
    "version": 3
   },
   "file_extension": ".py",
   "mimetype": "text/x-python",
   "name": "python",
   "nbconvert_exporter": "python",
   "pygments_lexer": "ipython3",
   "version": "3.7.1"
  },
  "toc": {
   "base_numbering": 1,
   "nav_menu": {},
   "number_sections": true,
   "sideBar": true,
   "skip_h1_title": false,
   "title_cell": "Table of Contents",
   "title_sidebar": "Contents",
   "toc_cell": false,
   "toc_position": {
    "height": "calc(100% - 180px)",
    "left": "10px",
    "top": "150px",
    "width": "367.4px"
   },
   "toc_section_display": true,
   "toc_window_display": true
  },
  "varInspector": {
   "cols": {
    "lenName": 16,
    "lenType": 16,
    "lenVar": 40
   },
   "kernels_config": {
    "python": {
     "delete_cmd_postfix": "",
     "delete_cmd_prefix": "del ",
     "library": "var_list.py",
     "varRefreshCmd": "print(var_dic_list())"
    },
    "r": {
     "delete_cmd_postfix": ") ",
     "delete_cmd_prefix": "rm(",
     "library": "var_list.r",
     "varRefreshCmd": "cat(var_dic_list()) "
    }
   },
   "types_to_exclude": [
    "module",
    "function",
    "builtin_function_or_method",
    "instance",
    "_Feature"
   ],
   "window_display": false
  }
 },
 "nbformat": 4,
 "nbformat_minor": 2
}
